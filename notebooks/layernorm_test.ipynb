{
 "cells": [
  {
   "cell_type": "code",
   "execution_count": 2,
   "metadata": {},
   "outputs": [],
   "source": [
    "import torch\n",
    "import torch.nn as nn"
   ]
  },
  {
   "cell_type": "code",
   "execution_count": 3,
   "metadata": {},
   "outputs": [
    {
     "name": "stdout",
     "output_type": "stream",
     "text": [
      "Original vector:\n",
      " tensor([ 0.3367,  0.1288,  0.2345,  0.2303, -1.1229, -0.1863,  2.2082, -0.6380,\n",
      "         0.4617,  0.2674])\n",
      "\n",
      "After ReLU:\n",
      " tensor([0.3367, 0.1288, 0.2345, 0.2303, 0.0000, 0.0000, 2.2082, 0.0000, 0.4617,\n",
      "        0.2674])\n",
      "\n",
      "After LayerNorm:\n",
      " tensor([-0.0801, -0.4129, -0.2438, -0.2504, -0.6191, -0.6191,  2.9155, -0.6191,\n",
      "         0.1199, -0.1911], grad_fn=<NativeLayerNormBackward0>)\n",
      "\n",
      "Mean of normalized vector: 1.1920929132713809e-08\n",
      "Std of normalized vector: 0.9999872446060181\n"
     ]
    }
   ],
   "source": [
    "# Set seed for reproducibility\n",
    "torch.manual_seed(42)\n",
    "\n",
    "# Create a random vector (e.g., simulating a residual stream)\n",
    "x = torch.randn(10)  # shape: [d_model]\n",
    "print(\"Original vector:\\n\", x)\n",
    "\n",
    "# Apply ReLU (simulating post-activation in a transformer block)\n",
    "x_relu = torch.relu(x)\n",
    "print(\"\\nAfter ReLU:\\n\", x_relu)\n",
    "\n",
    "# Initialize LayerNorm (LayerNorm normalizes across the last dimension)\n",
    "# Here, eps is a small number for numerical stability\n",
    "layer_norm = nn.LayerNorm(normalized_shape=x_relu.shape, eps=1e-5)\n",
    "\n",
    "# Apply LayerNorm\n",
    "x_normed = layer_norm(x_relu)\n",
    "print(\"\\nAfter LayerNorm:\\n\", x_normed)\n",
    "\n",
    "# Optionally: Check mean and std after LN\n",
    "print(\"\\nMean of normalized vector:\", x_normed.mean().item())\n",
    "print(\"Std of normalized vector:\", x_normed.std(unbiased=False).item())"
   ]
  },
  {
   "cell_type": "code",
   "execution_count": null,
   "metadata": {},
   "outputs": [],
   "source": []
  }
 ],
 "metadata": {
  "kernelspec": {
   "display_name": "pytorch",
   "language": "python",
   "name": "python3"
  },
  "language_info": {
   "codemirror_mode": {
    "name": "ipython",
    "version": 3
   },
   "file_extension": ".py",
   "mimetype": "text/x-python",
   "name": "python",
   "nbconvert_exporter": "python",
   "pygments_lexer": "ipython3",
   "version": "3.11.3"
  }
 },
 "nbformat": 4,
 "nbformat_minor": 2
}
